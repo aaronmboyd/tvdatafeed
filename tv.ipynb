{
 "metadata": {
  "language_info": {
   "codemirror_mode": {
    "name": "ipython",
    "version": 3
   },
   "file_extension": ".py",
   "mimetype": "text/x-python",
   "name": "python",
   "nbconvert_exporter": "python",
   "pygments_lexer": "ipython3",
   "version": "3.8.10"
  },
  "orig_nbformat": 2,
  "kernelspec": {
   "name": "python3",
   "display_name": "Python 3.8.10 64-bit"
  },
  "interpreter": {
   "hash": "31f2aee4e71d21fbe5cf8b01ff0e069b9275f58929596ceb00d14d90e3e16cd6"
  }
 },
 "nbformat": 4,
 "nbformat_minor": 2,
 "cells": [
  {
   "cell_type": "code",
   "execution_count": 1,
   "source": [
    "from tvDatafeed import TvDatafeed,Interval"
   ],
   "outputs": [],
   "metadata": {}
  },
  {
   "cell_type": "code",
   "execution_count": 2,
   "source": [
    "# get credentials for tradingview\n",
    "username = 'YourTradingViewUsername'\n",
    "password = 'YourTradingViewPassword'"
   ],
   "outputs": [],
   "metadata": {}
  },
  {
   "cell_type": "code",
   "execution_count": 3,
   "source": [
    "# initialize tradingview\n",
    "\n",
    "tv=TvDatafeed(username=username,password=password, chromedriver_path=\"/full-path-to/chromedriver_linux64/chromedriver\")\n",
    "#tv=TvDatafeed(auto_login=False)"
   ],
   "outputs": [],
   "metadata": {}
  },
  {
   "cell_type": "code",
   "execution_count": 4,
   "source": [
    "# Calculate hours or minutes since 01/01/2020\n",
    "import datetime\n",
    "data1 = datetime.datetime(2020,1,1)\n",
    "data2 = datetime.datetime.now()\n",
    "\n",
    "diff = data2 - data1\n",
    "\n",
    "days, seconds = diff.days, diff.seconds\n",
    "hours = days * 24 + seconds // 3600\n",
    "minutes = (hours * 24) + ((seconds % 3600) // 60)\n",
    "\n",
    "print (\"Hours is \" + str(hours))\n",
    "print (\"Minutes is \" + str(minutes))"
   ],
   "outputs": [
    {
     "output_type": "stream",
     "name": "stdout",
     "text": [
      "Hours is 14913\n",
      "Minutes is 357970\n"
     ]
    }
   ],
   "metadata": {}
  },
  {
   "cell_type": "code",
   "execution_count": 5,
   "source": [
    "tv.read_and_export(\"assets.txt\",Interval.in_1_hour,hours)"
   ],
   "outputs": [],
   "metadata": {}
  },
  {
   "cell_type": "code",
   "execution_count": 6,
   "source": [
    "tv.read_and_export(\"assets.txt\",Interval.in_1_minute,minutes)"
   ],
   "outputs": [],
   "metadata": {}
  }
 ]
}